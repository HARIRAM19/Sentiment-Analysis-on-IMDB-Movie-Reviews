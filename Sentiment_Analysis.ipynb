{
  "nbformat": 4,
  "nbformat_minor": 0,
  "metadata": {
    "colab": {
      "name": "Sentiment Analysis.ipynb",
      "provenance": [],
      "collapsed_sections": [],
      "mount_file_id": "1v1NMQSI6oPzmBpAZqsToBqkOMOk-SdAf",
      "authorship_tag": "ABX9TyP3i8Zv69AoLwD2OZVSKero"
    },
    "kernelspec": {
      "name": "python3",
      "display_name": "Python 3"
    },
    "language_info": {
      "name": "python"
    },
    "accelerator": "GPU"
  },
  "cells": [
    {
      "cell_type": "markdown",
      "metadata": {
        "id": "9EJD6fvRIYhp"
      },
      "source": [
        "# **Sentiment Analysis on IMDB Movie Reviews**"
      ]
    },
    {
      "cell_type": "markdown",
      "metadata": {
        "id": "Y2XI85FAOn__"
      },
      "source": [
        "\n",
        "*For this project, we will be predicting the sentiment of movie reviews whether they are positive or negative. We will be using the IMDB movie reviews dataset that is conveniently available that is built in into the Keras package. We will also be using LSTM's to read the reviews and make a prediction.*"
      ]
    },
    {
      "cell_type": "markdown",
      "metadata": {
        "id": "dile1NJeQ56l"
      },
      "source": [
        "**Importing the Required Libraries**"
      ]
    },
    {
      "cell_type": "code",
      "metadata": {
        "id": "WoW-eXarOeu0"
      },
      "source": [
        "from keras.datasets import imdb\n",
        "from keras.preprocessing.sequence import pad_sequences\n",
        "from keras.layers import LSTM,Embedding,Dense\n",
        "from keras.models import Sequential\n",
        "\n",
        "import pandas as pd\n",
        "import matplotlib.pyplot as plt"
      ],
      "execution_count": null,
      "outputs": []
    },
    {
      "cell_type": "markdown",
      "metadata": {
        "id": "58WiLR-nQhXi"
      },
      "source": [
        "**Loading the Data from Keras**"
      ]
    },
    {
      "cell_type": "code",
      "metadata": {
        "colab": {
          "base_uri": "https://localhost:8080/"
        },
        "id": "VTM-LEDOO-S_",
        "outputId": "a27e861a-2910-4411-a5cd-c04c039f8c66"
      },
      "source": [
        "(X_train,y_train),(X_test,y_test)=imdb.load_data('/tmp/imdb.npz',num_words=None,skip_top=0,maxlen=None,start_char=1,oov_char=2,index_from=3) "
      ],
      "execution_count": null,
      "outputs": [
        {
          "output_type": "stream",
          "text": [
            "Downloading data from https://storage.googleapis.com/tensorflow/tf-keras-datasets/imdb.npz\n",
            "17465344/17464789 [==============================] - 0s 0us/step\n",
            "17473536/17464789 [==============================] - 0s 0us/step\n"
          ],
          "name": "stdout"
        },
        {
          "output_type": "stream",
          "text": [
            "<string>:6: VisibleDeprecationWarning: Creating an ndarray from ragged nested sequences (which is a list-or-tuple of lists-or-tuples-or ndarrays with different lengths or shapes) is deprecated. If you meant to do this, you must specify 'dtype=object' when creating the ndarray\n",
            "/usr/local/lib/python3.7/dist-packages/keras/datasets/imdb.py:155: VisibleDeprecationWarning: Creating an ndarray from ragged nested sequences (which is a list-or-tuple of lists-or-tuples-or ndarrays with different lengths or shapes) is deprecated. If you meant to do this, you must specify 'dtype=object' when creating the ndarray\n",
            "  x_train, y_train = np.array(xs[:idx]), np.array(labels[:idx])\n",
            "/usr/local/lib/python3.7/dist-packages/keras/datasets/imdb.py:156: VisibleDeprecationWarning: Creating an ndarray from ragged nested sequences (which is a list-or-tuple of lists-or-tuples-or ndarrays with different lengths or shapes) is deprecated. If you meant to do this, you must specify 'dtype=object' when creating the ndarray\n",
            "  x_test, y_test = np.array(xs[idx:]), np.array(labels[idx:])\n"
          ],
          "name": "stderr"
        }
      ]
    },
    {
      "cell_type": "markdown",
      "metadata": {
        "id": "hRvkli9hQmUk"
      },
      "source": [
        "**Data Shape**"
      ]
    },
    {
      "cell_type": "code",
      "metadata": {
        "colab": {
          "base_uri": "https://localhost:8080/"
        },
        "id": "rnXmqoBBPiWF",
        "outputId": "db15323b-5808-4b56-ad47-2965fd8d9ee9"
      },
      "source": [
        "print('X_train has a shape of '+str(X_train.shape))\n",
        "print('y_train has a shape of '+str(y_train.shape))\n",
        "print('X_test has a shape of '+str(X_test.shape))\n",
        "print('y_test has a shape of '+str(y_test.shape))"
      ],
      "execution_count": null,
      "outputs": [
        {
          "output_type": "stream",
          "text": [
            "X_train has a shape of (25000,)\n",
            "y_train has a shape of (25000,)\n",
            "X_test has a shape of (25000,)\n",
            "y_test has a shape of (25000,)\n"
          ],
          "name": "stdout"
        }
      ]
    },
    {
      "cell_type": "markdown",
      "metadata": {
        "id": "X3JtuPd5RGxZ"
      },
      "source": [
        "*This means that our training and testing dataset are both of equal shape and they both have 25000 reviews which is a decent size dataset.*"
      ]
    },
    {
      "cell_type": "markdown",
      "metadata": {
        "id": "0MKevYsrRYM4"
      },
      "source": [
        "**Looking at the Data**"
      ]
    },
    {
      "cell_type": "code",
      "metadata": {
        "colab": {
          "base_uri": "https://localhost:8080/"
        },
        "id": "Yxm6GCN6QEno",
        "outputId": "81fd99b2-2d8a-497c-e352-d69114f32524"
      },
      "source": [
        "for i in range(10):\n",
        "    print(X_train[i][:15])"
      ],
      "execution_count": null,
      "outputs": [
        {
          "output_type": "stream",
          "text": [
            "[1, 14, 22, 16, 43, 530, 973, 1622, 1385, 65, 458, 4468, 66, 3941, 4]\n",
            "[1, 194, 1153, 194, 8255, 78, 228, 5, 6, 1463, 4369, 5012, 134, 26, 4]\n",
            "[1, 14, 47, 8, 30, 31, 7, 4, 249, 108, 7, 4, 5974, 54, 61]\n",
            "[1, 4, 18609, 16085, 33, 2804, 4, 2040, 432, 111, 153, 103, 4, 1494, 13]\n",
            "[1, 249, 1323, 7, 61, 113, 10, 10, 13, 1637, 14, 20, 56, 33, 2401]\n",
            "[1, 778, 128, 74, 12, 630, 163, 15, 4, 1766, 7982, 1051, 43222, 32, 85]\n",
            "[1, 6740, 365, 1234, 5, 1156, 354, 11, 14, 5327, 6638, 7, 1016, 10626, 5940]\n",
            "[1, 4, 14906, 716, 4, 65, 7, 4, 689, 4367, 6308, 2343, 4804, 28674, 84206]\n",
            "[1, 43, 188, 46, 5, 566, 264, 51, 6, 530, 664, 14, 9, 1713, 81]\n",
            "[1, 14, 20, 47, 111, 439, 3445, 19, 12, 15, 166, 12, 216, 125, 40]\n"
          ],
          "name": "stdout"
        }
      ]
    },
    {
      "cell_type": "markdown",
      "metadata": {
        "id": "SJjKm2dyRlkL"
      },
      "source": [
        "*As we can see all of the reviews starts with the number 1. This is because the number 1 symbolizes the start of the review as we decided earlier.*"
      ]
    },
    {
      "cell_type": "markdown",
      "metadata": {
        "id": "gqlWm1b2Rupt"
      },
      "source": [
        "**Word Index**"
      ]
    },
    {
      "cell_type": "code",
      "metadata": {
        "colab": {
          "base_uri": "https://localhost:8080/"
        },
        "id": "vAx4AYMqRn8U",
        "outputId": "8185924d-ce97-46e1-e1d7-c9c7dc908a5b"
      },
      "source": [
        "idx=imdb.get_word_index()\n",
        "print('There are '+str(len(idx))+' words in the dictionary.')"
      ],
      "execution_count": null,
      "outputs": [
        {
          "output_type": "stream",
          "text": [
            "Downloading data from https://storage.googleapis.com/tensorflow/tf-keras-datasets/imdb_word_index.json\n",
            "1646592/1641221 [==============================] - 0s 0us/step\n",
            "1654784/1641221 [==============================] - 0s 0us/step\n",
            "There are 88584 words in the dictionary.\n"
          ],
          "name": "stdout"
        }
      ]
    },
    {
      "cell_type": "markdown",
      "metadata": {
        "id": "sHtO3CsXSURm"
      },
      "source": [
        "**Index Samples**"
      ]
    },
    {
      "cell_type": "code",
      "metadata": {
        "colab": {
          "base_uri": "https://localhost:8080/"
        },
        "id": "AQup4oR1SSZ5",
        "outputId": "8583a304-fe92-4dc2-af8f-4737a04ed67c"
      },
      "source": [
        "{k:idx[k] for k in list(idx)[:10]}"
      ],
      "execution_count": null,
      "outputs": [
        {
          "output_type": "execute_result",
          "data": {
            "text/plain": [
              "{'fawn': 34701,\n",
              " 'hanging': 2345,\n",
              " 'nunnery': 52007,\n",
              " 'sonja': 16816,\n",
              " 'spiders': 16115,\n",
              " 'trawling': 52008,\n",
              " 'tsukino': 52006,\n",
              " 'vani': 63951,\n",
              " 'woods': 1408,\n",
              " 'woody': 2289}"
            ]
          },
          "metadata": {
            "tags": []
          },
          "execution_count": 6
        }
      ]
    },
    {
      "cell_type": "markdown",
      "metadata": {
        "id": "7e3wo9d9SdRN"
      },
      "source": [
        "**Swap Keys With Index and Move 3 Places**"
      ]
    },
    {
      "cell_type": "markdown",
      "metadata": {
        "id": "spIZmAlrSiz3"
      },
      "source": [
        "*Currently, our dictionary has the words as keys. We will swap them out so that we can convert our numeric data into something human readable* "
      ]
    },
    {
      "cell_type": "code",
      "metadata": {
        "colab": {
          "base_uri": "https://localhost:8080/"
        },
        "id": "1BckVeAWSgN0",
        "outputId": "228c04f2-992b-49ae-e6f1-460c1a39d355"
      },
      "source": [
        "rev_idx={v + 3:k for k,v in idx.items()}\n",
        "{k:rev_idx[k] for k in list(rev_idx)[:10]}"
      ],
      "execution_count": null,
      "outputs": [
        {
          "output_type": "execute_result",
          "data": {
            "text/plain": [
              "{1411: 'woods',\n",
              " 2292: 'woody',\n",
              " 2348: 'hanging',\n",
              " 16118: 'spiders',\n",
              " 16819: 'sonja',\n",
              " 34704: 'fawn',\n",
              " 52009: 'tsukino',\n",
              " 52010: 'nunnery',\n",
              " 52011: 'trawling',\n",
              " 63954: 'vani'}"
            ]
          },
          "metadata": {
            "tags": []
          },
          "execution_count": 7
        }
      ]
    },
    {
      "cell_type": "markdown",
      "metadata": {
        "id": "94nFLPS2UBLl"
      },
      "source": [
        "*In addition, we also have to add our padding character, starting character, special characters*"
      ]
    },
    {
      "cell_type": "code",
      "metadata": {
        "id": "eAnHo5GqT-cy"
      },
      "source": [
        "rev_idx[0]='padding_char'\n",
        "rev_idx[1]='start_char'\n",
        "rev_idx[2]='oov_char'\n",
        "rev_idx[3]='unk_char'"
      ],
      "execution_count": null,
      "outputs": []
    },
    {
      "cell_type": "markdown",
      "metadata": {
        "id": "NMPWFDbwUjHb"
      },
      "source": [
        "**Converting Data Into Human Readable Text**"
      ]
    },
    {
      "cell_type": "markdown",
      "metadata": {
        "id": "FEla8BK_U2I8"
      },
      "source": [
        "*Example - 1*"
      ]
    },
    {
      "cell_type": "code",
      "metadata": {
        "colab": {
          "base_uri": "https://localhost:8080/",
          "height": 124
        },
        "id": "p75ST2JTUf2U",
        "outputId": "15eb5002-afe0-4ca0-887f-ea04ae37a07c"
      },
      "source": [
        "' '.join([rev_idx[word] for word in X_train[0]])"
      ],
      "execution_count": null,
      "outputs": [
        {
          "output_type": "execute_result",
          "data": {
            "application/vnd.google.colaboratory.intrinsic+json": {
              "type": "string"
            },
            "text/plain": [
              "\"start_char this film was just brilliant casting location scenery story direction everyone's really suited the part they played and you could just imagine being there robert redford's is an amazing actor and now the same being director norman's father came from the same scottish island as myself so i loved the fact there was a real connection with this film the witty remarks throughout the film were great it was just brilliant so much that i bought the film as soon as it was released for retail and would recommend it to everyone to watch and the fly fishing was amazing really cried at the end it was so sad and you know what they say if you cry at a film it must have been good and this definitely was also congratulations to the two little boy's that played the part's of norman and paul they were just brilliant children are often left out of the praising list i think because the stars that play them all grown up are such a big profile for the whole film but these children are amazing and should be praised for what they have done don't you think the whole story was so lovely because it was true and was someone's life after all that was shared with us all\""
            ]
          },
          "metadata": {
            "tags": []
          },
          "execution_count": 9
        }
      ]
    },
    {
      "cell_type": "markdown",
      "metadata": {
        "id": "Ga4p4ANNVFxn"
      },
      "source": [
        "*Example - 2*"
      ]
    },
    {
      "cell_type": "code",
      "metadata": {
        "colab": {
          "base_uri": "https://localhost:8080/",
          "height": 123
        },
        "id": "qteU2YeoVIaT",
        "outputId": "bb0f1793-6b9f-4947-cb7e-09314314ff56"
      },
      "source": [
        "' '.join([rev_idx[word] for word in X_train[1]])"
      ],
      "execution_count": null,
      "outputs": [
        {
          "output_type": "execute_result",
          "data": {
            "application/vnd.google.colaboratory.intrinsic+json": {
              "type": "string"
            },
            "text/plain": [
              "\"start_char big hair big boobs bad music and a giant safety pin these are the words to best describe this terrible movie i love cheesy horror movies and i've seen hundreds but this had got to be on of the worst ever made the plot is paper thin and ridiculous the acting is an abomination the script is completely laughable the best is the end showdown with the cop and how he worked out who the killer is it's just so damn terribly written the clothes are sickening and funny in equal measures the hair is big lots of boobs bounce men wear those cut tee shirts that show off their stomachs sickening that men actually wore them and the music is just synthesiser trash that plays over and over again in almost every scene there is trashy music boobs and paramedics taking away bodies and the gym still doesn't close for bereavement all joking aside this is a truly bad film whose only charm is to look back on the disaster that was the 80's and have a good old laugh at how bad everything was back then\""
            ]
          },
          "metadata": {
            "tags": []
          },
          "execution_count": 10
        }
      ]
    },
    {
      "cell_type": "markdown",
      "metadata": {
        "id": "Brjgm1aZVOtP"
      },
      "source": [
        "*Example - 3*"
      ]
    },
    {
      "cell_type": "code",
      "metadata": {
        "colab": {
          "base_uri": "https://localhost:8080/",
          "height": 88
        },
        "id": "LOUtnNb6VTp-",
        "outputId": "01adca2d-624f-4d0d-ef9d-3d9ec0d5c10e"
      },
      "source": [
        "' '.join([rev_idx[word] for word in X_train[2]])"
      ],
      "execution_count": null,
      "outputs": [
        {
          "output_type": "execute_result",
          "data": {
            "application/vnd.google.colaboratory.intrinsic+json": {
              "type": "string"
            },
            "text/plain": [
              "\"start_char this has to be one of the worst films of the 1990s when my friends i were watching this film being the target audience it was aimed at we just sat watched the first half an hour with our jaws touching the floor at how bad it really was the rest of the time everyone else in the theatre just started talking to each other leaving or generally crying into their popcorn that they actually paid money they had earnt working to watch this feeble excuse for a film it must have looked like a great idea on paper but on film it looks like no one in the film has a clue what is going on crap acting crap costumes i can't get across how embarrasing this is to watch save yourself an hour a bit of your life\""
            ]
          },
          "metadata": {
            "tags": []
          },
          "execution_count": 11
        }
      ]
    },
    {
      "cell_type": "markdown",
      "metadata": {
        "id": "QZpx7PgvVa80"
      },
      "source": [
        "*As you can see in the texts above, they all started with \"start_char\". In the datasets, we can observe that there are no punctuations and all the text is in lowercase. This was done in order to reduce the size of the dictionary.*"
      ]
    },
    {
      "cell_type": "markdown",
      "metadata": {
        "id": "7hX-2HjWVoMn"
      },
      "source": [
        "**Observation Sizes**"
      ]
    },
    {
      "cell_type": "code",
      "metadata": {
        "colab": {
          "base_uri": "https://localhost:8080/"
        },
        "id": "8Kgv7z-VVg03",
        "outputId": "f56248ec-cc88-44ec-cd47-3e898b951864"
      },
      "source": [
        "print('Example - 1 has a length of '+str(len(X_train[0]))+' words.')\n",
        "print('Example - 2 has a length of '+str(len(X_train[1]))+' words.')\n",
        "print('Example - 3 has a length of '+str(len(X_train[2]))+' words.')"
      ],
      "execution_count": null,
      "outputs": [
        {
          "output_type": "stream",
          "text": [
            "Example - 1 has a length of 218 words.\n",
            "Example - 2 has a length of 189 words.\n",
            "Example - 3 has a length of 141 words.\n"
          ],
          "name": "stdout"
        }
      ]
    },
    {
      "cell_type": "markdown",
      "metadata": {
        "id": "VBVsLTKfWbnj"
      },
      "source": [
        "*Text is considered unstructured data so, each observation can be of varying sizes. We have to make each one of the same size because the model only accepts data that is of a specific size.*"
      ]
    },
    {
      "cell_type": "markdown",
      "metadata": {
        "id": "0YcqRqIfWny4"
      },
      "source": [
        "**Padding Sequences**"
      ]
    },
    {
      "cell_type": "markdown",
      "metadata": {
        "id": "g_G8pXYVWuga"
      },
      "source": [
        "*To address the concern mentioned above, we can pad the data for it to increase its size or we can also reduce its size by truncating it in the beggining or at the end. For this exercise we will use 100 words and cut the beginning.*"
      ]
    },
    {
      "cell_type": "code",
      "metadata": {
        "id": "6DbKcnorWXw0"
      },
      "source": [
        "maxlen=100\n",
        "X_train_pad=pad_sequences(X_train,maxlen=maxlen)\n",
        "X_test_pad=pad_sequences(X_test,maxlen=maxlen)"
      ],
      "execution_count": null,
      "outputs": []
    },
    {
      "cell_type": "markdown",
      "metadata": {
        "id": "8HvhOqFyW8od"
      },
      "source": [
        "**Data Shapes**"
      ]
    },
    {
      "cell_type": "code",
      "metadata": {
        "colab": {
          "base_uri": "https://localhost:8080/"
        },
        "id": "23Ec5-2hXB9Y",
        "outputId": "76d61bf4-f4a1-4d6b-ed41-86c467946136"
      },
      "source": [
        "print('X_train has a shape of '+str(X_train.shape))\n",
        "print('X_train_pad has a shape of '+str(X_train_pad.shape))"
      ],
      "execution_count": null,
      "outputs": [
        {
          "output_type": "stream",
          "text": [
            "X_train has a shape of (25000,)\n",
            "X_train_pad has a shape of (25000, 100)\n"
          ],
          "name": "stdout"
        }
      ]
    },
    {
      "cell_type": "markdown",
      "metadata": {
        "id": "rGx_X5ArXQw8"
      },
      "source": [
        "*As we can see above X_train_pad now has 100 columns because of our padding. The number of columns are now in uniform.*"
      ]
    },
    {
      "cell_type": "markdown",
      "metadata": {
        "id": "86kqf4y2Xbj3"
      },
      "source": [
        "**Observing the Difference**"
      ]
    },
    {
      "cell_type": "markdown",
      "metadata": {
        "id": "7idLHNG0XkqG"
      },
      "source": [
        "*Normal Data*"
      ]
    },
    {
      "cell_type": "code",
      "metadata": {
        "colab": {
          "base_uri": "https://localhost:8080/",
          "height": 124
        },
        "id": "8XWXnBu2XUpA",
        "outputId": "69a8161f-fd98-4d03-c84f-6b5f8612a63b"
      },
      "source": [
        "' '.join([rev_idx[word] for word in X_train[0]])"
      ],
      "execution_count": null,
      "outputs": [
        {
          "output_type": "execute_result",
          "data": {
            "application/vnd.google.colaboratory.intrinsic+json": {
              "type": "string"
            },
            "text/plain": [
              "\"start_char this film was just brilliant casting location scenery story direction everyone's really suited the part they played and you could just imagine being there robert redford's is an amazing actor and now the same being director norman's father came from the same scottish island as myself so i loved the fact there was a real connection with this film the witty remarks throughout the film were great it was just brilliant so much that i bought the film as soon as it was released for retail and would recommend it to everyone to watch and the fly fishing was amazing really cried at the end it was so sad and you know what they say if you cry at a film it must have been good and this definitely was also congratulations to the two little boy's that played the part's of norman and paul they were just brilliant children are often left out of the praising list i think because the stars that play them all grown up are such a big profile for the whole film but these children are amazing and should be praised for what they have done don't you think the whole story was so lovely because it was true and was someone's life after all that was shared with us all\""
            ]
          },
          "metadata": {
            "tags": []
          },
          "execution_count": 15
        }
      ]
    },
    {
      "cell_type": "markdown",
      "metadata": {
        "id": "jd1tE5PYYOu4"
      },
      "source": [
        "*Padded Data*"
      ]
    },
    {
      "cell_type": "code",
      "metadata": {
        "colab": {
          "base_uri": "https://localhost:8080/",
          "height": 70
        },
        "id": "X8qYi0W0YTDn",
        "outputId": "68cd6f7f-7db4-4ae6-ab59-ce8ecea78b39"
      },
      "source": [
        "' '.join([rev_idx[word] for word in X_train_pad[0]])"
      ],
      "execution_count": null,
      "outputs": [
        {
          "output_type": "execute_result",
          "data": {
            "application/vnd.google.colaboratory.intrinsic+json": {
              "type": "string"
            },
            "text/plain": [
              "\"cry at a film it must have been good and this definitely was also congratulations to the two little boy's that played the part's of norman and paul they were just brilliant children are often left out of the praising list i think because the stars that play them all grown up are such a big profile for the whole film but these children are amazing and should be praised for what they have done don't you think the whole story was so lovely because it was true and was someone's life after all that was shared with us all\""
            ]
          },
          "metadata": {
            "tags": []
          },
          "execution_count": 16
        }
      ]
    },
    {
      "cell_type": "markdown",
      "metadata": {
        "id": "lnb4Ddg7YcLq"
      },
      "source": [
        "*As we can see above the length of the padded data is shorter by cutting the beginning out.*"
      ]
    },
    {
      "cell_type": "markdown",
      "metadata": {
        "id": "KtsREzGKYjMo"
      },
      "source": [
        "**Get Max Features**"
      ]
    },
    {
      "cell_type": "markdown",
      "metadata": {
        "id": "Mfo_Gc7OYoH_"
      },
      "source": [
        "*We need to get the max features for the shape of the embedding.*"
      ]
    },
    {
      "cell_type": "code",
      "metadata": {
        "colab": {
          "base_uri": "https://localhost:8080/"
        },
        "id": "W2TiDe9SYZg7",
        "outputId": "9c00a333-1c37-4be5-f055-0a2142480077"
      },
      "source": [
        "max_features=max([max(x) for x in X_train_pad]+[max(x) for x in X_test_pad])+1\n",
        "print(max_features)"
      ],
      "execution_count": null,
      "outputs": [
        {
          "output_type": "stream",
          "text": [
            "88587\n"
          ],
          "name": "stdout"
        }
      ]
    },
    {
      "cell_type": "markdown",
      "metadata": {
        "id": "uj8uRx-oY7Xn"
      },
      "source": [
        "**Create Model**"
      ]
    },
    {
      "cell_type": "code",
      "metadata": {
        "colab": {
          "base_uri": "https://localhost:8080/"
        },
        "id": "JzFpzbNJY_pF",
        "outputId": "c9ee1231-dbdf-4da7-c200-a67c99447d84"
      },
      "source": [
        "model=Sequential()\n",
        "model.add(Embedding(max_features,128))\n",
        "model.add(LSTM(64,dropout=0.2,recurrent_dropout=0.2))\n",
        "model.add(Dense(1,activation='sigmoid'))\n",
        "model.compile(loss='binary_crossentropy',optimizer='adam',metrics=['accuracy'])"
      ],
      "execution_count": null,
      "outputs": [
        {
          "output_type": "stream",
          "text": [
            "WARNING:tensorflow:Layer lstm will not use cuDNN kernels since it doesn't meet the criteria. It will use a generic GPU kernel as fallback when running on GPU.\n"
          ],
          "name": "stdout"
        }
      ]
    },
    {
      "cell_type": "markdown",
      "metadata": {
        "id": "2pYQel8vZYmK"
      },
      "source": [
        "**Initial Model**"
      ]
    },
    {
      "cell_type": "code",
      "metadata": {
        "colab": {
          "base_uri": "https://localhost:8080/"
        },
        "id": "m6cVOhlnZawV",
        "outputId": "708987fb-e34d-4599-9815-7d64079391e7"
      },
      "source": [
        "model.fit(X_train_pad,y_train,batch_size=32,epochs=3)"
      ],
      "execution_count": null,
      "outputs": [
        {
          "output_type": "stream",
          "text": [
            "Epoch 1/3\n",
            "782/782 [==============================] - 371s 444ms/step - loss: 0.4827 - accuracy: 0.7493\n",
            "Epoch 2/3\n",
            "782/782 [==============================] - 346s 442ms/step - loss: 0.1832 - accuracy: 0.9328\n",
            "Epoch 3/3\n",
            "782/782 [==============================] - 347s 444ms/step - loss: 0.0967 - accuracy: 0.9663\n"
          ],
          "name": "stdout"
        },
        {
          "output_type": "execute_result",
          "data": {
            "text/plain": [
              "<keras.callbacks.History at 0x7f5a6adddfd0>"
            ]
          },
          "metadata": {
            "tags": []
          },
          "execution_count": 19
        }
      ]
    },
    {
      "cell_type": "markdown",
      "metadata": {
        "id": "ExLWZECubu1x"
      },
      "source": [
        "**Initial Model Accuracy**"
      ]
    },
    {
      "cell_type": "code",
      "metadata": {
        "colab": {
          "base_uri": "https://localhost:8080/"
        },
        "id": "2JfkS8w9byKh",
        "outputId": "0d30dbbc-32b7-4249-ef64-7ddd19e7ad12"
      },
      "source": [
        "score,acc=model.evaluate(X_test_pad, y_test)\n",
        "print('Test score:',score)\n",
        "print('Test accuracy:',acc)"
      ],
      "execution_count": null,
      "outputs": [
        {
          "output_type": "stream",
          "text": [
            "782/782 [==============================] - 20s 24ms/step - loss: 0.4943 - accuracy: 0.8349\n",
            "Test score: 0.4942680597305298\n",
            "Test accuracy: 0.8349199891090393\n"
          ],
          "name": "stdout"
        }
      ]
    },
    {
      "cell_type": "markdown",
      "metadata": {
        "id": "vs_3DvAfb9fr"
      },
      "source": [
        "*As you can see our model did okay, it is pretty decent. However, we want to further improve it.*"
      ]
    },
    {
      "cell_type": "markdown",
      "metadata": {
        "id": "ThOH2MtxchP5"
      },
      "source": [
        "**Improving the Model**"
      ]
    },
    {
      "cell_type": "markdown",
      "metadata": {
        "id": "6swGOE_0cltf"
      },
      "source": [
        "*To further improve the model we are going to try a variety of techniques but first we have to look closer into the data.*"
      ]
    },
    {
      "cell_type": "markdown",
      "metadata": {
        "id": "PIJNAB6mcqPw"
      },
      "source": [
        "**Length of Reviews**"
      ]
    },
    {
      "cell_type": "code",
      "metadata": {
        "id": "BAhKPunhcBLz"
      },
      "source": [
        "lengths=[]\n",
        "for i in range(len(X_train)):\n",
        "    lengths.append(len(X_train[i]))"
      ],
      "execution_count": null,
      "outputs": []
    },
    {
      "cell_type": "code",
      "metadata": {
        "colab": {
          "base_uri": "https://localhost:8080/",
          "height": 338
        },
        "id": "T8PvficUc6Qh",
        "outputId": "422ebf0f-a93a-4ab9-edbb-067af90d9a53"
      },
      "source": [
        "import seaborn as sns\n",
        "sns.countplot(lengths)"
      ],
      "execution_count": null,
      "outputs": [
        {
          "output_type": "stream",
          "text": [
            "/usr/local/lib/python3.7/dist-packages/seaborn/_decorators.py:43: FutureWarning: Pass the following variable as a keyword arg: x. From version 0.12, the only valid positional argument will be `data`, and passing other arguments without an explicit keyword will result in an error or misinterpretation.\n",
            "  FutureWarning\n"
          ],
          "name": "stderr"
        },
        {
          "output_type": "execute_result",
          "data": {
            "text/plain": [
              "<matplotlib.axes._subplots.AxesSubplot at 0x7f5a6df38d10>"
            ]
          },
          "metadata": {
            "tags": []
          },
          "execution_count": 22
        },
        {
          "output_type": "display_data",
          "data": {
            "image/png": "[encoded data removed]",
            "text/plain": [
              "<Figure size 432x288 with 1 Axes>"
            ]
          },
          "metadata": {
            "tags": [],
            "needs_background": "light"
          }
        }
      ]
    },
    {
      "cell_type": "markdown",
      "metadata": {
        "id": "TrnXwpxlc_vq"
      },
      "source": [
        "*As we can see, there are a decent amound of reviews that pass 100. So, we will extend the padding to 125 since the dataset is not that big anyway.*"
      ]
    },
    {
      "cell_type": "markdown",
      "metadata": {
        "id": "X6L64wvVdEYw"
      },
      "source": [
        "**Increasing the Length of the Reviews**"
      ]
    },
    {
      "cell_type": "code",
      "metadata": {
        "id": "NFWbHppvdCHy"
      },
      "source": [
        "X_train_pad_more=pad_sequences(X_train,maxlen=175)\n",
        "X_test_pad_more=pad_sequences(X_test,maxlen=175)"
      ],
      "execution_count": null,
      "outputs": []
    },
    {
      "cell_type": "code",
      "metadata": {
        "colab": {
          "base_uri": "https://localhost:8080/"
        },
        "id": "u0nzI6A3dMlp",
        "outputId": "5c03f3ec-1885-441c-a3f9-f735e3c77dfd"
      },
      "source": [
        "X_train_pad_more.shape"
      ],
      "execution_count": null,
      "outputs": [
        {
          "output_type": "execute_result",
          "data": {
            "text/plain": [
              "(25000, 175)"
            ]
          },
          "metadata": {
            "tags": []
          },
          "execution_count": 24
        }
      ]
    },
    {
      "cell_type": "markdown",
      "metadata": {
        "id": "LYvBGBTudRC2"
      },
      "source": [
        "**Word Frequency**"
      ]
    },
    {
      "cell_type": "markdown",
      "metadata": {
        "id": "XZiDhMfEdT1K"
      },
      "source": [
        "*Another thing that we want to address is the frequency of the words we have used. For sure some words just add noise to our data.*"
      ]
    },
    {
      "cell_type": "code",
      "metadata": {
        "id": "McfjexbjdPkr"
      },
      "source": [
        "flat_list=[]\n",
        "for sublist in X_train:\n",
        "    for item in sublist:\n",
        "        flat_list.append(item)"
      ],
      "execution_count": null,
      "outputs": []
    },
    {
      "cell_type": "code",
      "metadata": {
        "id": "v59G2KAodckN"
      },
      "source": [
        "from collections import Counter\n",
        "word_freq=Counter(flat_list)"
      ],
      "execution_count": null,
      "outputs": []
    },
    {
      "cell_type": "code",
      "metadata": {
        "colab": {
          "base_uri": "https://localhost:8080/",
          "height": 342
        },
        "id": "YoeaEjaFdeZK",
        "outputId": "a705cb26-28ff-48dc-ffb4-0801d1a95950"
      },
      "source": [
        "lm=sns.countplot(list(word_freq.values()))\n",
        "lm.set_ylim(0,100)"
      ],
      "execution_count": null,
      "outputs": [
        {
          "output_type": "stream",
          "text": [
            "/usr/local/lib/python3.7/dist-packages/seaborn/_decorators.py:43: FutureWarning: Pass the following variable as a keyword arg: x. From version 0.12, the only valid positional argument will be `data`, and passing other arguments without an explicit keyword will result in an error or misinterpretation.\n",
            "  FutureWarning\n"
          ],
          "name": "stderr"
        },
        {
          "output_type": "execute_result",
          "data": {
            "text/plain": [
              "(0.0, 100.0)"
            ]
          },
          "metadata": {
            "tags": []
          },
          "execution_count": 27
        },
        {
          "output_type": "display_data",
          "data": {
            "image/png": "[encoded data removed]",
            "text/plain": [
              "<Figure size 432x288 with 1 Axes>"
            ]
          },
          "metadata": {
            "tags": [],
            "needs_background": "light"
          }
        }
      ]
    },
    {
      "cell_type": "markdown",
      "metadata": {
        "id": "EbUIePiNdm1T"
      },
      "source": [
        "**Remove Words that are Low in Frequency**"
      ]
    },
    {
      "cell_type": "code",
      "metadata": {
        "id": "r36ZBSu-dsga"
      },
      "source": [
        "X_train_pad_more[X_train_pad_more>5000]=3\n",
        "X_test_pad_more[X_test_pad_more>5000]=3"
      ],
      "execution_count": null,
      "outputs": []
    },
    {
      "cell_type": "code",
      "metadata": {
        "colab": {
          "base_uri": "https://localhost:8080/"
        },
        "id": "coOu4AGEdwpy",
        "outputId": "158b4413-c2e4-49c7-bc6e-5b9dcb824975"
      },
      "source": [
        "print('Words Removed: '+str(pd.Series(sum(X_train_pad_more==3)/len(X_train_pad_more)).mean()))"
      ],
      "execution_count": null,
      "outputs": [
        {
          "output_type": "stream",
          "text": [
            "Words Removed: 0.07849622857142853\n"
          ],
          "name": "stdout"
        }
      ]
    },
    {
      "cell_type": "markdown",
      "metadata": {
        "id": "ZzWT-VV2d4Lv"
      },
      "source": [
        "*We only removed about 8 percent of the words who are most likely just noise.*"
      ]
    },
    {
      "cell_type": "markdown",
      "metadata": {
        "id": "4RYKgcNVd8Gh"
      },
      "source": [
        "*Sample - 1*"
      ]
    },
    {
      "cell_type": "code",
      "metadata": {
        "colab": {
          "base_uri": "https://localhost:8080/",
          "height": 106
        },
        "id": "YbOb0rNbd12n",
        "outputId": "50b11dd9-0863-43b2-f0a3-8df0bad7f984"
      },
      "source": [
        "' '.join([rev_idx[word] for word in X_train_pad_more[0]])"
      ],
      "execution_count": null,
      "outputs": [
        {
          "output_type": "execute_result",
          "data": {
            "application/vnd.google.colaboratory.intrinsic+json": {
              "type": "string"
            },
            "text/plain": [
              "\"scottish island as myself so i loved the fact there was a real connection with this film the witty remarks throughout the film were great it was just brilliant so much that i bought the film as soon as it was released for unk_char and would recommend it to everyone to watch and the fly unk_char was amazing really cried at the end it was so sad and you know what they say if you cry at a film it must have been good and this definitely was also unk_char to the two little unk_char that played the unk_char of norman and paul they were just brilliant children are often left out of the unk_char list i think because the stars that play them all grown up are such a big unk_char for the whole film but these children are amazing and should be unk_char for what they have done don't you think the whole story was so lovely because it was true and was someone's life after all that was unk_char with us all\""
            ]
          },
          "metadata": {
            "tags": []
          },
          "execution_count": 30
        }
      ]
    },
    {
      "cell_type": "markdown",
      "metadata": {
        "id": "yNlxAThSeWNS"
      },
      "source": [
        "*As you can see above, there are more \"unk_char\" because we replaced the words that are not very frequent into them. We did this to reduce the noise in the dataset.*"
      ]
    },
    {
      "cell_type": "markdown",
      "metadata": {
        "id": "PQjXTQPaedSg"
      },
      "source": [
        "**Final Model**"
      ]
    },
    {
      "cell_type": "code",
      "metadata": {
        "id": "PwlUffHIeabP"
      },
      "source": [
        "from keras import backend as K\n",
        "K.clear_session()"
      ],
      "execution_count": null,
      "outputs": []
    },
    {
      "cell_type": "code",
      "metadata": {
        "colab": {
          "base_uri": "https://localhost:8080/"
        },
        "id": "KJLPMJGCfbL5",
        "outputId": "06f19466-93d9-4fca-feda-973824e9f57b"
      },
      "source": [
        "model=Sequential()\n",
        "model.add(Embedding(max_features, 128))\n",
        "model.add(LSTM(64,dropout=0.2,recurrent_dropout=0.2))\n",
        "model.add(Dense(1,activation='sigmoid'))\n",
        "model.compile(loss='binary_crossentropy',optimizer='adam',metrics=['accuracy'])"
      ],
      "execution_count": null,
      "outputs": [
        {
          "output_type": "stream",
          "text": [
            "WARNING:tensorflow:Layer lstm will not use cuDNN kernels since it doesn't meet the criteria. It will use a generic GPU kernel as fallback when running on GPU.\n"
          ],
          "name": "stdout"
        }
      ]
    },
    {
      "cell_type": "code",
      "metadata": {
        "colab": {
          "base_uri": "https://localhost:8080/"
        },
        "id": "tjylCwcff0HY",
        "outputId": "b816aa8a-f874-4623-a27f-ba8f14c1ebb0"
      },
      "source": [
        "model.fit(X_train_pad_more,y_train,batch_size=32,epochs=3)"
      ],
      "execution_count": null,
      "outputs": [
        {
          "output_type": "stream",
          "text": [
            "Epoch 1/3\n",
            "782/782 [==============================] - 548s 697ms/step - loss: 0.4929 - accuracy: 0.7502\n",
            "Epoch 2/3\n",
            "782/782 [==============================] - 545s 697ms/step - loss: 0.2689 - accuracy: 0.8919\n",
            "Epoch 3/3\n",
            "782/782 [==============================] - 542s 693ms/step - loss: 0.2168 - accuracy: 0.9149\n"
          ],
          "name": "stdout"
        },
        {
          "output_type": "execute_result",
          "data": {
            "text/plain": [
              "<keras.callbacks.History at 0x7f59d1116650>"
            ]
          },
          "metadata": {
            "tags": []
          },
          "execution_count": 33
        }
      ]
    },
    {
      "cell_type": "markdown",
      "metadata": {
        "id": "glPwF1KdgD2t"
      },
      "source": [
        "**Final Model Accuracy**"
      ]
    },
    {
      "cell_type": "code",
      "metadata": {
        "colab": {
          "base_uri": "https://localhost:8080/"
        },
        "id": "i-sJlq9Ef3gO",
        "outputId": "1bf46e44-4eb0-4142-b87a-ce996b5d0fa6"
      },
      "source": [
        "score,acc=model.evaluate(X_test_pad_more,y_test)\n",
        "print('Test score:',score)\n",
        "print('Test accuracy:',acc)"
      ],
      "execution_count": null,
      "outputs": [
        {
          "output_type": "stream",
          "text": [
            "782/782 [==============================] - 34s 43ms/step - loss: 0.3326 - accuracy: 0.8688\n",
            "Test score: 0.33256930112838745\n",
            "Test accuracy: 0.8688399791717529\n"
          ],
          "name": "stdout"
        }
      ]
    },
    {
      "cell_type": "markdown",
      "metadata": {
        "id": "J9I7eM_gggml"
      },
      "source": [
        "**Save Model**"
      ]
    },
    {
      "cell_type": "code",
      "metadata": {
        "id": "_OokVo7HgjEF"
      },
      "source": [
        "model.save('IMDB Movie Review Model.h5')"
      ],
      "execution_count": null,
      "outputs": []
    },
    {
      "cell_type": "markdown",
      "metadata": {
        "id": "zVj_XD8Xn9LP"
      },
      "source": [
        "*The initial model was able to get an accuracy of 83.49%, because of the improvements we have made we were able to increase it by 3.39% to an accuracy of 86.88%*"
      ]
    }
  ]
}